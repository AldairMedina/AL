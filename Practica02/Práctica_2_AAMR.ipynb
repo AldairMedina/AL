{
  "nbformat": 4,
  "nbformat_minor": 0,
  "metadata": {
    "colab": {
      "provenance": []
    },
    "kernelspec": {
      "name": "python3",
      "display_name": "Python 3"
    },
    "language_info": {
      "name": "python"
    }
  },
  "cells": [
    {
      "cell_type": "code",
      "source": [
        "from keras.datasets import mnist\n",
        "import numpy as np\n",
        "\n",
        "(x_train, y_train), (x_test, y_test) = mnist.load_data()\n",
        "\n",
        "# Se obtiene una muestra con igual número de: cincos vs no cincos\n",
        "# para el conjunto de entrenamiento y el de test\n",
        "idx_y_train_5 = np.where(y_train == 5)[0]\n",
        "idx_y_train_n5 = np.where(y_train != 5)[0]\n",
        "idx_y_train_n5 = np.random.choice(idx_y_train_n5, idx_y_train_5.shape[0], replace=False)\n",
        "\n",
        "idx_y_train = np.concatenate([idx_y_train_5, idx_y_train_n5])\n",
        "np.random.shuffle(idx_y_train)\n",
        "\n",
        "x_train = x_train[idx_y_train]\n",
        "y_train = y_train[idx_y_train]\n",
        "print(x_train.shape)\n",
        "\n",
        "idx_y_test_5 = np.where(y_test == 5)[0]\n",
        "idx_y_test_n5 = np.where(y_test != 5)[0]\n",
        "idx_y_test_n5 = np.random.choice(idx_y_test_n5, idx_y_test_5.shape[0], replace=False)\n",
        "\n",
        "idx_y_test = np.concatenate([idx_y_test_5, idx_y_test_n5])\n",
        "np.random.shuffle(idx_y_test)\n",
        "\n",
        "x_test = x_test[idx_y_test]\n",
        "y_test = y_test[idx_y_test]\n",
        "print(x_test.shape)\n",
        "\n",
        "y_train_binary = (y_train == 5).astype(int)\n",
        "y_test_binary = (y_test == 5).astype(int)"
      ],
      "metadata": {
        "id": "50CNad4MEsHq",
        "colab": {
          "base_uri": "https://localhost:8080/"
        },
        "outputId": "9ca5d75a-3cf7-49b3-f4de-e617a59a0760"
      },
      "execution_count": 22,
      "outputs": [
        {
          "output_type": "stream",
          "name": "stdout",
          "text": [
            "(10842, 28, 28)\n",
            "(1784, 28, 28)\n"
          ]
        }
      ]
    },
    {
      "cell_type": "code",
      "source": [
        "from keras.models import Sequential\n",
        "from keras.layers import Flatten, Dense\n",
        "from keras.metrics import F1Score\n",
        "\n",
        "model = Sequential([\n",
        "    Flatten(input_shape=(28, 28)),\n",
        "    Dense(1)\n",
        "])\n",
        "\n",
        "print(model.summary())\n",
        "\n",
        "model.compile(loss='binary_crossentropy', metrics=['accuracy'])\n",
        "model.fit(x_train, y_train_binary, epochs=4, batch_size=512, validation_split=0.5)"
      ],
      "metadata": {
        "id": "3aBy0CQvHcT9",
        "colab": {
          "base_uri": "https://localhost:8080/"
        },
        "outputId": "4280afcf-88c4-4936-f607-0659a64056d5"
      },
      "execution_count": 23,
      "outputs": [
        {
          "output_type": "stream",
          "name": "stdout",
          "text": [
            "Model: \"sequential_7\"\n",
            "_________________________________________________________________\n",
            " Layer (type)                Output Shape              Param #   \n",
            "=================================================================\n",
            " flatten_7 (Flatten)         (None, 784)               0         \n",
            "                                                                 \n",
            " dense_7 (Dense)             (None, 1)                 785       \n",
            "                                                                 \n",
            "=================================================================\n",
            "Total params: 785 (3.07 KB)\n",
            "Trainable params: 785 (3.07 KB)\n",
            "Non-trainable params: 0 (0.00 Byte)\n",
            "_________________________________________________________________\n",
            "None\n",
            "Epoch 1/4\n",
            "11/11 [==============================] - 1s 25ms/step - loss: 6.2858 - accuracy: 0.5862 - val_loss: 5.5355 - val_accuracy: 0.6370\n",
            "Epoch 2/4\n",
            "11/11 [==============================] - 0s 7ms/step - loss: 5.3487 - accuracy: 0.6495 - val_loss: 5.3809 - val_accuracy: 0.6482\n",
            "Epoch 3/4\n",
            "11/11 [==============================] - 0s 11ms/step - loss: 5.2063 - accuracy: 0.6598 - val_loss: 5.1033 - val_accuracy: 0.6652\n",
            "Epoch 4/4\n",
            "11/11 [==============================] - 0s 7ms/step - loss: 5.0662 - accuracy: 0.6685 - val_loss: 4.5153 - val_accuracy: 0.7045\n"
          ]
        },
        {
          "output_type": "execute_result",
          "data": {
            "text/plain": [
              "<keras.src.callbacks.History at 0x7d83abdbea70>"
            ]
          },
          "metadata": {},
          "execution_count": 23
        }
      ]
    },
    {
      "cell_type": "code",
      "source": [
        "from sklearn.metrics import confusion_matrix, \\\n",
        "precision_score, recall_score,f1_score\n",
        "\n",
        "y_pred = (model.predict(x_test) >= 0.5).astype(int)[:,0]\n",
        "\n",
        "conf_matrix = confusion_matrix(y_test_binary, y_pred)\n",
        "print(\"Matriz de confusión:\")\n",
        "print(conf_matrix)\n",
        "\n",
        "precision = precision_score(y_test_binary, y_pred)\n",
        "print(\"Precision_1:\", precision)\n",
        "recall = recall_score(y_test_binary, y_pred)\n",
        "print(\"Recall_1:\", recall)\n",
        "f1_s = f1_score(y_test_binary, y_pred)\n",
        "print(\"F1-score_1:\", f1_s)\n",
        "\n",
        "\n",
        "precision_0 = precision_score(y_test_binary, y_pred, pos_label=0)\n",
        "print(\"Precision_0:\", precision_0)\n",
        "recall_0 = recall_score(y_test_binary, y_pred, pos_label=0)\n",
        "print(\"Recall_0:\", recall_0)\n",
        "f1_s_0 = f1_score(y_test_binary, y_pred, pos_label=0)\n",
        "print(\"F1-score_0:\", f1_s_0)"
      ],
      "metadata": {
        "id": "Bcb43x96H6xD",
        "colab": {
          "base_uri": "https://localhost:8080/"
        },
        "outputId": "c4bc9780-704b-4a70-fd5e-55231d9fdeda"
      },
      "execution_count": 24,
      "outputs": [
        {
          "output_type": "stream",
          "name": "stdout",
          "text": [
            "56/56 [==============================] - 0s 1ms/step\n",
            "Matriz de confusión:\n",
            "[[689 203]\n",
            " [291 601]]\n",
            "Precision_1: 0.7475124378109452\n",
            "Recall_1: 0.6737668161434978\n",
            "F1-score_1: 0.7087264150943395\n",
            "Precision_0: 0.7030612244897959\n",
            "Recall_0: 0.7724215246636771\n",
            "F1-score_0: 0.736111111111111\n"
          ]
        }
      ]
    }
  ]
}